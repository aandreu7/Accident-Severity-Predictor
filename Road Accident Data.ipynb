{
 "cells": [
  {
   "cell_type": "markdown",
   "id": "21de3d63",
   "metadata": {},
   "source": [
    "### 0. Introduction"
   ]
  },
  {
   "cell_type": "code",
   "execution_count": null,
   "id": "9f55ecb0-561f-4f94-9c35-55ab371eed91",
   "metadata": {},
   "outputs": [],
   "source": [
    "pip install -r requirements.txt"
   ]
  },
  {
   "cell_type": "code",
   "execution_count": 1,
   "id": "de6fa955",
   "metadata": {},
   "outputs": [],
   "source": [
    "# IMPORT LIBRARIES\n",
    "\n",
    "import pandas as pd\n",
    "import numpy as np\n",
    "import matplotlib.pyplot as plt\n",
    "import seaborn as sns\n",
    "from sklearn.preprocessing import OrdinalEncoder, OneHotEncoder, label_binarize, StandardScaler\n",
    "from geopy.geocoders import Nominatim\n",
    "from concurrent.futures import ThreadPoolExecutor\n",
    "from sklearn.neighbors import NearestNeighbors\n",
    "import plotly.express as px\n",
    "from imblearn.over_sampling import SMOTENC\n",
    "from imblearn.under_sampling import TomekLinks\n",
    "from sklearn.neural_network import MLPClassifier\n",
    "import xgboost as xgb\n",
    "from sklearn.model_selection import RandomizedSearchCV, StratifiedShuffleSplit, cross_validate, cross_val_score, cross_val_predict, train_test_split, cross_val_predict, KFold, learning_curve\n",
    "from scipy.stats import randint\n",
    "import torch\n",
    "import torch.nn as nn\n",
    "import torch.optim as optim\n",
    "from torch.utils.data import TensorDataset, DataLoader\n",
    "import pickle\n",
    "import time\n",
    "from sklearn.metrics import confusion_matrix, accuracy_score, classification_report, roc_curve, roc_auc_score, precision_recall_curve, auc, f1_score\n",
    "from sklearn.utils.class_weight import compute_sample_weight\n",
    "from itertools import product\n",
    "import random"
   ]
  },
  {
   "cell_type": "code",
   "execution_count": 3,
   "id": "599f49d4-32bc-4274-b041-359435ae58ef",
   "metadata": {},
   "outputs": [],
   "source": [
    "# IMPORTS DATA\n",
    "\n",
    "data = pd.read_excel(\"Road Accident Data.xlsx\")\n",
    "data = data.sample(frac=1, random_state=42).reset_index(drop=True)"
   ]
  },
  {
   "cell_type": "markdown",
   "id": "2934153f",
   "metadata": {},
   "source": [
    "### 1. EDA and Preprocessing"
   ]
  },
  {
   "cell_type": "code",
   "execution_count": 4,
   "id": "7bd2aa4e",
   "metadata": {},
   "outputs": [
    {
     "name": "stdout",
     "output_type": "stream",
     "text": [
      "(307973, 23)\n"
     ]
    }
   ],
   "source": [
    "print(data.shape)\n",
    "\n",
    "X = data.drop(\"Accident_Severity\", axis=1)\n",
    "y = data[\"Accident_Severity\"]"
   ]
  },
  {
   "cell_type": "markdown",
   "id": "c9087c1e-0448-48c3-ac75-9170fdcd4516",
   "metadata": {},
   "source": [
    "Before starting EDA, in order to avoid Data Leakage, we are going to split our dataset in 4 parts:\n",
    "\n",
    "X_train and y_train, which contains, respectively, train features and train target.\n",
    "\n",
    "X_test and y_test, which contains, respectively, test features and test target.\n",
    "\n",
    "X_test and y_test will be completely isolated, which means their samples are not going to be shown. However, we will have to apply modifications to them.\n",
    "\n",
    "We are going to reserve 10% of global data (aproximately 31.000 samples) to test our models."
   ]
  },
  {
   "cell_type": "code",
   "execution_count": 5,
   "id": "7942e9ba-57aa-415f-807f-87fb7a342c9c",
   "metadata": {},
   "outputs": [],
   "source": [
    "X_train, X_test, y_train, y_test = train_test_split(X, y, test_size=0.2, random_state=42)"
   ]
  },
  {
   "cell_type": "code",
   "execution_count": 6,
   "id": "5163d9bb",
   "metadata": {},
   "outputs": [
    {
     "name": "stdout",
     "output_type": "stream",
     "text": [
      "       Accident_Index Accident Date Month Day_of_Week  Year  \\\n",
      "211637  200943P075049    2021-04-11   Apr    Saturday  2021   \n",
      "139517  2010000000000    2021-01-29   Jan    Thursday  2021   \n",
      "195591  201045WA48827    2022-02-19   Feb      Friday  2022   \n",
      "183720  201022F002174    2022-04-30   Apr      Friday  2022   \n",
      "34774   2010000000000    2022-10-17   Oct      Sunday  2022   \n",
      "\n",
      "                    Junction_Control                      Junction_Detail  \\\n",
      "211637  Data missing or out of range  Not at junction or within 20 metres   \n",
      "139517  Data missing or out of range  Not at junction or within 20 metres   \n",
      "195591      Give way or uncontrolled              T or staggered junction   \n",
      "183720      Give way or uncontrolled              T or staggered junction   \n",
      "34774            Auto traffic signal    More than 4 arms (not roundabout)   \n",
      "\n",
      "         Latitude       Light_Conditions Local_Authority_(District)  ...  \\\n",
      "211637  52.072892  Darkness - lights lit                   Cherwell  ...   \n",
      "139517  56.295414               Daylight          Perth and Kinross  ...   \n",
      "195591  51.195381               Daylight                   Waverley  ...   \n",
      "183720  52.698821               Daylight                 Shropshire  ...   \n",
      "34774   53.804333               Daylight                      Leeds  ...   \n",
      "\n",
      "       Number_of_Casualties  Number_of_Vehicles    Police_Force  \\\n",
      "211637                    1                   1   Thames Valley   \n",
      "139517                    1                   1         Tayside   \n",
      "195591                    1                   2          Surrey   \n",
      "183720                    1                   2     West Mercia   \n",
      "34774                     2                   2  West Yorkshire   \n",
      "\n",
      "        Road_Surface_Conditions           Road_Type Speed_limit      Time  \\\n",
      "211637                      Dry  Single carriageway          30  20:52:00   \n",
      "139517                      Dry  Single carriageway          30  12:20:00   \n",
      "195591                      Dry  Single carriageway          30  13:40:00   \n",
      "183720                      Dry  Single carriageway          30  08:30:00   \n",
      "34774                       Dry    Dual carriageway          30  16:00:00   \n",
      "\n",
      "        Urban_or_Rural_Area  Weather_Conditions  \\\n",
      "211637                Urban  Fine no high winds   \n",
      "139517                Rural  Fine no high winds   \n",
      "195591                Urban  Fine no high winds   \n",
      "183720                Urban  Fine no high winds   \n",
      "34774                 Urban  Fine no high winds   \n",
      "\n",
      "                                Vehicle_Type  \n",
      "211637                                   Car  \n",
      "139517  Bus or coach (17 or more pass seats)  \n",
      "195591                                   Car  \n",
      "183720                                   Car  \n",
      "34774          Goods 7.5 tonnes mgw and over  \n",
      "\n",
      "[5 rows x 22 columns]\n",
      "211637     Slight\n",
      "139517     Slight\n",
      "195591    Serious\n",
      "183720     Slight\n",
      "34774      Slight\n",
      "Name: Accident_Severity, dtype: object\n"
     ]
    }
   ],
   "source": [
    "print(X_train.head())\n",
    "print(y_train.head())"
   ]
  },
  {
   "cell_type": "code",
   "execution_count": 7,
   "id": "74971634",
   "metadata": {},
   "outputs": [
    {
     "name": "stdout",
     "output_type": "stream",
     "text": [
      "X_train:\n",
      "                        Accident Date           Year       Latitude  \\\n",
      "count                         246378  246378.000000  246378.000000   \n",
      "mean   2021-12-23 17:37:32.860239360    2021.468715      52.487381   \n",
      "min              2021-01-01 00:00:00    2021.000000      49.914488   \n",
      "25%              2021-06-28 00:00:00    2021.000000      51.484892   \n",
      "50%              2021-12-08 00:00:00    2021.000000      52.222313   \n",
      "75%              2022-06-25 00:00:00    2022.000000      53.416004   \n",
      "max              2022-12-31 00:00:00    2022.000000      60.598055   \n",
      "std                              NaN       0.499021       1.340963   \n",
      "\n",
      "           Longitude  Number_of_Casualties  Number_of_Vehicles    Speed_limit  \n",
      "count  246378.000000         246378.000000       246378.000000  246378.000000  \n",
      "mean       -1.368848              1.356367            1.828463      38.879324  \n",
      "min        -7.516225              1.000000            1.000000      10.000000  \n",
      "25%        -2.248878              1.000000            1.000000      30.000000  \n",
      "50%        -1.349766              1.000000            2.000000      30.000000  \n",
      "75%        -0.206867              1.000000            2.000000      50.000000  \n",
      "max         1.759398             48.000000           32.000000      70.000000  \n",
      "std         1.356103              0.818587            0.710356      14.036269   \n",
      " \n",
      "\n",
      "y_train:\n",
      " count     246378\n",
      "unique         3\n",
      "top       Slight\n",
      "freq      210462\n",
      "Name: Accident_Severity, dtype: object\n"
     ]
    }
   ],
   "source": [
    "print(\"X_train:\\n\", X_train.describe(), \"\\n\", \"\\n\")\n",
    "print(\"y_train:\\n\", y_train.describe())"
   ]
  },
  {
   "cell_type": "code",
   "execution_count": 8,
   "id": "a4e333f6",
   "metadata": {},
   "outputs": [
    {
     "name": "stdout",
     "output_type": "stream",
     "text": [
      "Accident_Index                        object\n",
      "Accident Date                 datetime64[ns]\n",
      "Month                                 object\n",
      "Day_of_Week                           object\n",
      "Year                                   int64\n",
      "Junction_Control                      object\n",
      "Junction_Detail                       object\n",
      "Latitude                             float64\n",
      "Light_Conditions                      object\n",
      "Local_Authority_(District)            object\n",
      "Carriageway_Hazards                   object\n",
      "Longitude                            float64\n",
      "Number_of_Casualties                   int64\n",
      "Number_of_Vehicles                     int64\n",
      "Police_Force                          object\n",
      "Road_Surface_Conditions               object\n",
      "Road_Type                             object\n",
      "Speed_limit                            int64\n",
      "Time                                  object\n",
      "Urban_or_Rural_Area                   object\n",
      "Weather_Conditions                    object\n",
      "Vehicle_Type                          object\n",
      "dtype: object \n",
      "\n",
      "object\n"
     ]
    }
   ],
   "source": [
    "print(X_train.dtypes, \"\\n\")\n",
    "print(y_train.dtype)"
   ]
  },
  {
   "cell_type": "markdown",
   "id": "f2614f6e",
   "metadata": {},
   "source": [
    "It is time to examinate our data to see what preliminary information can we get from it."
   ]
  },
  {
   "cell_type": "markdown",
   "id": "b30294bd",
   "metadata": {},
   "source": [
    "Firstly, let's see if there are any NaN in our data."
   ]
  },
  {
   "cell_type": "code",
   "execution_count": 9,
   "id": "f9a7d8e1",
   "metadata": {},
   "outputs": [
    {
     "name": "stdout",
     "output_type": "stream",
     "text": [
      "Total number of NaNs in features: 248216\n",
      "\n",
      "Total number of NaNs in target: 0\n",
      "\n",
      "Percentage of NaNs by column in features:\n",
      "\n",
      "Accident_Index                 0.000000\n",
      "Accident Date                  0.000000\n",
      "Month                          0.000000\n",
      "Day_of_Week                    0.000000\n",
      "Year                           0.000000\n",
      "Junction_Control               0.000000\n",
      "Junction_Detail                0.000000\n",
      "Latitude                       0.000000\n",
      "Light_Conditions               0.000000\n",
      "Local_Authority_(District)     0.000000\n",
      "Longitude                      0.000000\n",
      "Number_of_Casualties           0.000000\n",
      "Police_Force                   0.000000\n",
      "Number_of_Vehicles             0.000000\n",
      "Urban_or_Rural_Area            0.000000\n",
      "Speed_limit                    0.000000\n",
      "Vehicle_Type                   0.000000\n",
      "Time                           0.005682\n",
      "Road_Surface_Conditions        0.101064\n",
      "Road_Type                      0.497203\n",
      "Weather_Conditions             1.934832\n",
      "Carriageway_Hazards           98.207226\n",
      "dtype: float64\n",
      "\n",
      "\n"
     ]
    }
   ],
   "source": [
    "print(\"Total number of NaNs in features: \" + str(X_train.isna().sum().sum()) + \"\\n\")\n",
    "\n",
    "print(\"Total number of NaNs in target: \" + str(y_train.isna().sum()) + \"\\n\")\n",
    "\n",
    "print(\"Percentage of NaNs by column in features:\\n\\n\" + str(X_train.isna().sum().sort_values()/len(X_train)*100) + \"\\n\\n\")"
   ]
  },
  {
   "cell_type": "code",
   "execution_count": 10,
   "id": "8d26cba3",
   "metadata": {},
   "outputs": [
    {
     "data": {
      "text/plain": [
       "array(['Any animal in carriageway (except ridden horse)',\n",
       "       'Other object on road', 'Pedestrian in carriageway - not injured',\n",
       "       'Previous accident', 'Vehicle load on road'], dtype=object)"
      ]
     },
     "execution_count": 10,
     "metadata": {},
     "output_type": "execute_result"
    }
   ],
   "source": [
    "np.unique(X_train[X_train[\"Carriageway_Hazards\"].notna()][\"Carriageway_Hazards\"])"
   ]
  },
  {
   "cell_type": "markdown",
   "id": "b09db020",
   "metadata": {},
   "source": [
    "We see that \"Carriageway_Hazards\" concentrates more than 98% of NaNs, and that can cause a problem, because our models could underestimate the influence of this variable due to its large amount of NaNs.\n",
    "\n",
    "\"A priori\", we could think that the objects over the road might have an impact on the severity of the accident, so delete the column can have a negative result.\n",
    "\n",
    "On the other hand, deleting just the samples that are NaNs would let our dataset with just the 2% of data we currently have, and this sounds even worse. \n",
    "\n",
    "Therefore, instead of deleting data, we could consider that a value checked as a \"NaN\" could just mean that there were no special objects on the road. A prove that backs this hypothesis is that we do not see any \"No Object\"-like in the unique values of this column (shown just above). So we are going to replace all \"NaNs\" values of the \"Carriageway_Hazards\" column with the label \"No object\", so we can move forward with no NaNs.\n",
    "\n",
    "Regarding the presence of NaNs in other columns, their percentage is so low that we can just replace them with their mode or mean."
   ]
  },
  {
   "cell_type": "code",
   "execution_count": 11,
   "id": "2204d4f5",
   "metadata": {},
   "outputs": [],
   "source": [
    "# Remember that we have to apply preprocessing methods to train and test data separately\n",
    "\n",
    "X_train.fillna({\"Carriageway_Hazards\": \"No object\"}, inplace=True)\n",
    "X_test.fillna({\"Carriageway_Hazards\": \"No object\"}, inplace=True) # Just in case there exists NaNs in test data\n",
    "\n",
    "for column in X_train.columns:\n",
    "    if X_train[column].isna().sum()>0:\n",
    "        X_train.fillna({column: X_train[column].mode()[0]}, inplace=True) # We use the mode because all columns with NaNs are categorical\n",
    "    # We have to apply the same method to test data\n",
    "    if X_test[column].isna().sum()>0:\n",
    "        X_test.fillna({column: X_test[column].mode()[0]}, inplace=True)\n",
    "\n",
    "if (y_test.isna().sum()>0): # In case that our test target data has any NaN (we can not see if that actually happens, because it would cause Data Leakage)\n",
    "    y_test.fillna(y_test.mode()[0], inplace=True)"
   ]
  },
  {
   "cell_type": "markdown",
   "id": "718ccb95",
   "metadata": {},
   "source": [
    "\"Time\" is an important variable that gives us information about the moments of the day when accidents occur the most. As the dataset comes, this variable is codified as a \"datetime\" object, showing the exact hour, minute and second when the accident was notified. We would prefer to codify this variable, so it shows the period of the day, rather than the exact time."
   ]
  },
  {
   "cell_type": "code",
   "execution_count": 12,
   "id": "bd7516b2",
   "metadata": {},
   "outputs": [],
   "source": [
    "\"\"\"\n",
    "\n",
    "Early Morning: from 00:00 to 06:00\n",
    "Sunrise: from 06:00 to 09:00\n",
    "Morning: from 09:00 to 12:00\n",
    "Noon: from 12:00 to 14:00\n",
    "Afternoon: from 14:00 to 18:00\n",
    "Sunset: from 18:00 to 19:00\n",
    "Night: from 19:00 to 00:00\n",
    "\n",
    "\"\"\"\n",
    "\n",
    "def classify_time(time):\n",
    "    hour = pd.to_datetime(str(time), format='%H:%M:%S').hour\n",
    "    if hour >= 0 and hour < 6:\n",
    "        return 'Early Morning'\n",
    "    elif hour >= 6 and hour < 9:\n",
    "        return 'Sunrise'\n",
    "    elif hour >= 9 and hour < 12:\n",
    "        return 'Morning'\n",
    "    elif hour >= 12 and hour < 14:\n",
    "        return 'Noon'\n",
    "    elif hour >= 14 and hour < 18:\n",
    "        return 'Afternoon'\n",
    "    elif hour >= 18 and hour < 19:\n",
    "        return 'Sunset'\n",
    "    else:\n",
    "        return 'Night'\n",
    "\n",
    "# Train data\n",
    "\n",
    "X_train['Time'] = pd.to_datetime(X_train['Time'], format='%H:%M:%S').dt.time\n",
    "\n",
    "X_train['Time'] = X_train['Time'].apply(classify_time)\n",
    "\n",
    "\n",
    "# Test data\n",
    "\n",
    "X_test['Time'] = pd.to_datetime(X_test['Time'], format='%H:%M:%S').dt.time\n",
    "\n",
    "X_test['Time'] = X_test['Time'].apply(classify_time)"
   ]
  },
  {
   "cell_type": "code",
   "execution_count": 13,
   "id": "5506baac",
   "metadata": {},
   "outputs": [
    {
     "data": {
      "image/png": "[encoded data removed]",
      "text/plain": [
       "<Figure size 1200x2400 with 10 Axes>"
      ]
     },
     "metadata": {},
     "output_type": "display_data"
    }
   ],
   "source": [
    "fig, axes = plt.subplots(5, 2, figsize=(12, 24))\n",
    "\n",
    "variables = [\"Day_of_Week\", \"Month\", \"Road_Surface_Conditions\", \"Light_Conditions\", \"Time\", \"Carriageway_Hazards\",\n",
    "            \"Number_of_Casualties\", \"Number_of_Vehicles\", \"Speed_limit\", \"Urban_or_Rural_Area\"]\n",
    "\n",
    "current_index = 0\n",
    "for x in range(5):\n",
    "    for y in range(2):\n",
    "        tmp = X_train[variables[current_index]].value_counts()\n",
    "        tmp.sort_values().plot(kind='bar', color='blue', edgecolor='black', ax=axes[x][y])\n",
    "        axes[x][y].set_xlabel(variables[current_index])\n",
    "        axes[x][y].set_ylabel(\"Number of accidents\")\n",
    "        axes[x][y].set_title(\"Accidents by \" + variables[current_index])\n",
    "        axes[x][y].tick_params(axis='x', rotation=45)\n",
    "        current_index+=1\n",
    "\n",
    "plt.tight_layout()\n",
    "\n",
    "plt.show()"
   ]
  },
  {
   "cell_type": "markdown",
   "id": "b6c1bf62",
   "metadata": {},
   "source": [
    "\"Accident_Index\" is a code that uniquely identifies each accident within our dataset. It does not give any other information, except for the inaccurate location where the accident took place (the code is composed by numbers and two letters, which could be hardly used to get the city or town), but that information can be extracted from the \"Longitude\" and \"Latitude\" variables, so we can definitively omit that variable."
   ]
  },
  {
   "cell_type": "code",
   "execution_count": 14,
   "id": "50515dab",
   "metadata": {},
   "outputs": [],
   "source": [
    "X_train = X_train.drop(\"Accident_Index\", axis=1)\n",
    "\n",
    "X_test = X_test.drop(\"Accident_Index\", axis=1)"
   ]
  },
  {
   "cell_type": "markdown",
   "id": "3c53b142",
   "metadata": {},
   "source": [
    "Also notice that we only have data from January 1st 2021 to January 1st 2022, so we can not get a relation between the feature \"Year\" and our target \"Accident_Severity\". Therefore, we can omit this feature too."
   ]
  },
  {
   "cell_type": "code",
   "execution_count": 15,
   "id": "b4c8fd0e",
   "metadata": {},
   "outputs": [],
   "source": [
    "X_train = X_train.drop(\"Year\", axis=1)\n",
    "\n",
    "X_test = X_test.drop(\"Year\", axis=1)"
   ]
  },
  {
   "cell_type": "markdown",
   "id": "09a4de1c",
   "metadata": {},
   "source": [
    "Furthermore, \"Accident Date\" column is also redundant, as we already have \"Month\" and \"Day_of_Week\" columns. So we can also delete this feature."
   ]
  },
  {
   "cell_type": "code",
   "execution_count": 16,
   "id": "81385ccd",
   "metadata": {},
   "outputs": [],
   "source": [
    "X_train = X_train.drop(\"Accident Date\", axis=1)\n",
    "\n",
    "X_test = X_test.drop(\"Accident Date\", axis=1)"
   ]
  },
  {
   "cell_type": "markdown",
   "id": "64737d8b-f2d6-4dd9-b9d9-e576a02f3eda",
   "metadata": {},
   "source": [
    "\"Local_Authority_(District)\" is a variable with a too many unique values, that can introduce noise to our models and do not have any impact on predicting the severity of an accident. So we proceed to delete it as well."
   ]
  },
  {
   "cell_type": "code",
   "execution_count": 17,
   "id": "00e4ef8e-630a-48ec-bce7-c4427a77cfcc",
   "metadata": {},
   "outputs": [],
   "source": [
    "X_train = X_train.drop(\"Local_Authority_(District)\", axis=1)\n",
    "\n",
    "X_test = X_test.drop(\"Local_Authority_(District)\", axis=1)"
   ]
  },
  {
   "cell_type": "markdown",
   "id": "aab0a6dc",
   "metadata": {},
   "source": [
    "It is important to notice that most of our variables are categorical, except for \"Speed_limit\" (maximum legal speed of the road where the accident took place), \"Latitude\" and \"Longitude\", \"Number_of_Casualties\" and \"Number_of_Vehicles\".\n",
    "\n",
    "Tree-based models are usually better to work with categorial features, but as we said, we also want to prove Neural Networks, so we will have to encode all categorical features."
   ]
  },
  {
   "cell_type": "markdown",
   "id": "c70eccd8",
   "metadata": {},
   "source": [
    "For now, we are going to extract the location (city) where each accident happened from its longitude and latitude, using GeoNames free database (https://www.geonames.org/) and 1-Nearest Neighbour model from SKLearn. The idea is to load a map of the United Kingdom (from which our data belongs) and filter by a 'feature code' so as to obtain only names of important locations of the UK (excluding famous buildings or geographical places, for instance), and filter those cities with less than 100.000 inhabitants. Once we have the data loaded, we apply Ball Tree algorithm to obtain the closest city name to all latitude-longitude pairs. "
   ]
  },
  {
   "cell_type": "code",
   "execution_count": 18,
   "id": "b867e39b",
   "metadata": {},
   "outputs": [],
   "source": [
    "# IMPORT GEOGRAPHICAL DATA\n",
    "\n",
    "column_names = [\"geonameid\", \"name\", \"asciiname\", \"alternatenames\", \"latitude\", \"longitude\",\n",
    "                \"feature_class\", \"feature_code\", \"country_code\", \"cc2\", \"admin1_code\", \n",
    "                \"admin2_code\", \"admin3_code\", \"admin4_code\", \"population\", \"elevation\", \n",
    "                \"dem\", \"timezone\", \"modification_date\"]\n",
    "\n",
    "geoData = pd.read_csv(\"GB.txt\", sep=\"\\t\", header=None, names=column_names, low_memory=False)\n",
    "\n",
    "geoData = geoData[(geoData['feature_code'].isin(['PPLC', 'PPLA', 'PPLA2'])) & (geoData['population'] > 100000)]\n",
    "\n",
    "coords = geoData[['latitude', 'longitude']].to_numpy()\n",
    "\n",
    "# APPLY BALL TREE\n",
    "\n",
    "nbrs = NearestNeighbors(n_neighbors=1, algorithm='ball_tree').fit(coords)\n",
    "\n",
    "def get_nearest_location(lat, lon, df, nbrs):\n",
    "    distance, index = nbrs.kneighbors([[lat, lon]])\n",
    "    return df.iloc[index[0][0]]['name']\n",
    "\n",
    "# Train data\n",
    "\n",
    "locations = [get_nearest_location(latitude, longitude, geoData, nbrs) for latitude, longitude in zip(X_train['Latitude'], X_train['Longitude'])]\n",
    "\n",
    "X_train['Location'] = locations\n",
    "\n",
    "# Test data\n",
    "\n",
    "locations = [get_nearest_location(latitude, longitude, geoData, nbrs) for latitude, longitude in zip(X_test['Latitude'], X_test['Longitude'])]\n",
    "\n",
    "X_test['Location'] = locations"
   ]
  },
  {
   "cell_type": "code",
   "execution_count": 19,
   "id": "b30dd70d",
   "metadata": {},
   "outputs": [
    {
     "data": {
      "application/vnd.plotly.v1+json": {
       "config": {
        "plotlyServerURL": "https://plot.ly"
       },
       "data": [
        {
         "alignmentgroup": "True",
         "hovertemplate": "Accident_Severity=Fatal<br>Location=%{x}<br>value=%{y}<extra></extra>",
         "legendgroup": "Fatal",
         "marker": {
          "color": "blue",
          "pattern": {
           "shape": ""
          }
         },
         "name": "Fatal",
         "offsetgroup": "Fatal",
         "orientation": "v",
         "showlegend": true,
         "textposition": "auto",
         "type": "bar",
         "x": [
          "Aberdeen",
          "Bath",
          "Bedford",
          "Belfast",
          "Birmingham",
          "Blackburn",
          "Blackpool",
          "Bolton",
          "Bournemouth",
          "Bradford",
          "Brighton",
          "Bristol",
          "Cambridge",
          "Cardiff",
          "Chelmsford",
          "Coventry",
          "Derby",
          "Doncaster",
          "Dudley",
          "Dundee",
          "Edinburgh",
          "Exeter",
          "Glasgow",
          "Gloucester",
          "Huddersfield",
          "Ipswich",
          "Kingston upon Hull",
          "Leeds",
          "Leicester",
          "Lincoln",
          "Liverpool",
          "London",
          "Luton",
          "Maidstone",
          "Manchester",
          "Middlesbrough",
          "Milton Keynes",
          "Newcastle upon Tyne",
          "Newport",
          "Northampton",
          "Norwich",
          "Nottingham",
          "Oldham",
          "Oxford",
          "Peterborough",
          "Plymouth",
          "Portsmouth",
          "Preston",
          "Reading",
          "Rotherham",
          "Salford",
          "Sheffield",
          "Slough",
          "Solihull",
          "Southampton",
          "Southend-on-Sea",
          "St Helens",
          "Stockport",
          "Stoke-on-Trent",
          "Sunderland",
          "Swansea",
          "Swindon",
          "Telford",
          "Wakefield",
          "Walsall",
          "Warrington",
          "Wigan",
          "Wolverhampton",
          "Worcester",
          "York"
         ],
         "xaxis": "x",
         "y": {
          "_inputArray": {
           "0": 21,
           "1": 46,
           "10": 72,
           "11": 48,
           "12": 58,
           "13": 55,
           "14": 45,
           "15": 41,
           "16": 44,
           "17": 40,
           "18": 21,
           "19": 23,
           "2": 18,
           "20": 41,
           "21": 37,
           "22": 75,
           "23": 26,
           "24": 26,
           "25": 51,
           "26": 56,
           "27": 32,
           "28": 50,
           "29": 65,
           "3": 0,
           "30": 80,
           "31": 510,
           "32": 45,
           "33": 74,
           "34": 20,
           "35": 28,
           "36": 24,
           "37": 65,
           "38": 20,
           "39": 40,
           "4": 53,
           "40": 64,
           "41": 43,
           "42": 24,
           "43": 44,
           "44": 35,
           "45": 53,
           "46": 28,
           "47": 20,
           "48": 45,
           "49": 23,
           "5": 36,
           "50": 19,
           "51": 29,
           "52": 84,
           "53": 25,
           "54": 26,
           "55": 45,
           "56": 20,
           "57": 28,
           "58": 36,
           "59": 20,
           "6": 50,
           "60": 72,
           "61": 53,
           "62": 40,
           "63": 29,
           "64": 30,
           "65": 33,
           "66": 16,
           "67": 15,
           "68": 26,
           "69": 25,
           "7": 13,
           "8": 40,
           "9": 44,
           "bdata": "FQAuABIAAAA1ACQAMgANACgALABIADAAOgA3AC0AKQAsACgAFQAXACkAJQBLABoAGgAzADgAIAAyAEEAUAD+AS0ASgAUABwAGABBABQAKABAACsAGAAsACMANQAcABQALQAXABMAHQBUABkAGgAtABQAHAAkABQASAA1ACgAHQAeACEAEAAPABoAGQA=",
           "dtype": "i2",
           "shape": "70"
          },
          "bdata": "FQAuABIAAAA1ACQAMgANACgALABIADAAOgA3AC0AKQAsACgAFQAXACkAJQBLABoAGgAzADgAIAAyAEEAUAD+AS0ASgAUABwAGABBABQAKABAACsAGAAsACMANQAcABQALQAXABMAHQBUABkAGgAtABQAHAAkABQASAA1ACgAHQAeACEAEAAPABoAGQA=",
          "dtype": "i2"
         },
         "yaxis": "y"
        },
        {
         "alignmentgroup": "True",
         "hovertemplate": "Accident_Severity=Serious<br>Location=%{x}<br>value=%{y}<extra></extra>",
         "legendgroup": "Serious",
         "marker": {
          "color": "orange",
          "pattern": {
           "shape": ""
          }
         },
         "name": "Serious",
         "offsetgroup": "Serious",
         "orientation": "v",
         "showlegend": true,
         "textposition": "auto",
         "type": "bar",
         "x": [
          "Aberdeen",
          "Bath",
          "Bedford",
          "Belfast",
          "Birmingham",
          "Blackburn",
          "Blackpool",
          "Bolton",
          "Bournemouth",
          "Bradford",
          "Brighton",
          "Bristol",
          "Cambridge",
          "Cardiff",
          "Chelmsford",
          "Coventry",
          "Derby",
          "Doncaster",
          "Dudley",
          "Dundee",
          "Edinburgh",
          "Exeter",
          "Glasgow",
          "Gloucester",
          "Huddersfield",
          "Ipswich",
          "Kingston upon Hull",
          "Leeds",
          "Leicester",
          "Lincoln",
          "Liverpool",
          "London",
          "Luton",
          "Maidstone",
          "Manchester",
          "Middlesbrough",
          "Milton Keynes",
          "Newcastle upon Tyne",
          "Newport",
          "Northampton",
          "Norwich",
          "Nottingham",
          "Oldham",
          "Oxford",
          "Peterborough",
          "Plymouth",
          "Portsmouth",
          "Preston",
          "Reading",
          "Rotherham",
          "Salford",
          "Sheffield",
          "Slough",
          "Solihull",
          "Southampton",
          "Southend-on-Sea",
          "St Helens",
          "Stockport",
          "Stoke-on-Trent",
          "Sunderland",
          "Swansea",
          "Swindon",
          "Telford",
          "Wakefield",
          "Walsall",
          "Warrington",
          "Wigan",
          "Wolverhampton",
          "Worcester",
          "York"
         ],
         "xaxis": "x",
         "y": {
          "_inputArray": {
           "0": 237,
           "1": 281,
           "10": 895,
           "11": 466,
           "12": 509,
           "13": 428,
           "14": 566,
           "15": 450,
           "16": 438,
           "17": 336,
           "18": 278,
           "19": 240,
           "2": 209,
           "20": 417,
           "21": 284,
           "22": 723,
           "23": 254,
           "24": 244,
           "25": 476,
           "26": 701,
           "27": 454,
           "28": 339,
           "29": 385,
           "3": 22,
           "30": 1194,
           "31": 4526,
           "32": 513,
           "33": 750,
           "34": 215,
           "35": 429,
           "36": 224,
           "37": 733,
           "38": 238,
           "39": 357,
           "4": 527,
           "40": 410,
           "41": 702,
           "42": 287,
           "43": 474,
           "44": 484,
           "45": 365,
           "46": 644,
           "47": 447,
           "48": 474,
           "49": 213,
           "5": 329,
           "50": 258,
           "51": 365,
           "52": 1107,
           "53": 324,
           "54": 594,
           "55": 516,
           "56": 211,
           "57": 288,
           "58": 335,
           "59": 282,
           "6": 475,
           "60": 546,
           "61": 288,
           "62": 223,
           "63": 313,
           "64": 208,
           "65": 336,
           "66": 141,
           "67": 159,
           "68": 178,
           "69": 288,
           "7": 186,
           "8": 500,
           "9": 445,
           "bdata": "7QAZAdEAFgAPAkkB2wG6APQBvQF/A9IB/QGsATYCwgG2AVABFgHwAKEBHAHTAv4A9ADcAb0CxgFTAYEBqgSuEQEC7gLXAK0B4ADdAu4AZQGaAb4CHwHaAeQBbQGEAr8B2gHVAAIBbQFTBEQBUgIEAtMAIAFPARoBIgIgAd8AOQHQAFABjQCfALIAIAE=",
           "dtype": "i2",
           "shape": "70"
          },
          "bdata": "7QAZAdEAFgAPAkkB2wG6APQBvQF/A9IB/QGsATYCwgG2AVABFgHwAKEBHAHTAv4A9ADcAb0CxgFTAYEBqgSuEQEC7gLXAK0B4ADdAu4AZQGaAb4CHwHaAeQBbQGEAr8B2gHVAAIBbQFTBEQBUgIEAtMAIAFPARoBIgIgAd8AOQHQAFABjQCfALIAIAE=",
          "dtype": "i2"
         },
         "yaxis": "y"
        },
        {
         "alignmentgroup": "True",
         "hovertemplate": "Accident_Severity=Slight<br>Location=%{x}<br>value=%{y}<extra></extra>",
         "legendgroup": "Slight",
         "marker": {
          "color": "red",
          "pattern": {
           "shape": ""
          }
         },
         "name": "Slight",
         "offsetgroup": "Slight",
         "orientation": "v",
         "showlegend": true,
         "textposition": "auto",
         "type": "bar",
         "x": [
          "Aberdeen",
          "Bath",
          "Bedford",
          "Belfast",
          "Birmingham",
          "Blackburn",
          "Blackpool",
          "Bolton",
          "Bournemouth",
          "Bradford",
          "Brighton",
          "Bristol",
          "Cambridge",
          "Cardiff",
          "Chelmsford",
          "Coventry",
          "Derby",
          "Doncaster",
          "Dudley",
          "Dundee",
          "Edinburgh",
          "Exeter",
          "Glasgow",
          "Gloucester",
          "Huddersfield",
          "Ipswich",
          "Kingston upon Hull",
          "Leeds",
          "Leicester",
          "Lincoln",
          "Liverpool",
          "London",
          "Luton",
          "Maidstone",
          "Manchester",
          "Middlesbrough",
          "Milton Keynes",
          "Newcastle upon Tyne",
          "Newport",
          "Northampton",
          "Norwich",
          "Nottingham",
          "Oldham",
          "Oxford",
          "Peterborough",
          "Plymouth",
          "Portsmouth",
          "Preston",
          "Reading",
          "Rotherham",
          "Salford",
          "Sheffield",
          "Slough",
          "Solihull",
          "Southampton",
          "Southend-on-Sea",
          "St Helens",
          "Stockport",
          "Stoke-on-Trent",
          "Sunderland",
          "Swansea",
          "Swindon",
          "Telford",
          "Wakefield",
          "Walsall",
          "Warrington",
          "Wigan",
          "Wolverhampton",
          "Worcester",
          "York"
         ],
         "xaxis": "x",
         "y": {
          "_inputArray": {
           "0": 867,
           "1": 1676,
           "10": 4408,
           "11": 3518,
           "12": 2557,
           "13": 3474,
           "14": 3192,
           "15": 2602,
           "16": 2919,
           "17": 2058,
           "18": 1721,
           "19": 933,
           "2": 1097,
           "20": 2281,
           "21": 2538,
           "22": 3751,
           "23": 1623,
           "24": 1541,
           "25": 2614,
           "26": 3466,
           "27": 3055,
           "28": 3139,
           "29": 2175,
           "3": 59,
           "30": 6460,
           "31": 33789,
           "32": 3734,
           "33": 5179,
           "34": 1957,
           "35": 2256,
           "36": 1682,
           "37": 4999,
           "38": 1641,
           "39": 1571,
           "4": 4102,
           "40": 2448,
           "41": 3917,
           "42": 1933,
           "43": 2046,
           "44": 2945,
           "45": 3652,
           "46": 2871,
           "47": 2319,
           "48": 2895,
           "49": 1834,
           "5": 1773,
           "50": 1883,
           "51": 2553,
           "52": 8529,
           "53": 2149,
           "54": 2560,
           "55": 3619,
           "56": 1319,
           "57": 1761,
           "58": 3213,
           "59": 1944,
           "6": 3172,
           "60": 3606,
           "61": 1308,
           "62": 1623,
           "63": 1814,
           "64": 2107,
           "65": 1933,
           "66": 868,
           "67": 1403,
           "68": 1476,
           "69": 1255,
           "7": 1339,
           "8": 2818,
           "9": 2943,
           "bdata": "YwMAAIwGAABJBAAAOwAAAAYQAADtBgAAZAwAADsFAAACCwAAfwsAADgRAAC+DQAA/QkAAJINAAB4DAAAKgoAAGcLAAAKCAAAuQYAAKUDAADpCAAA6gkAAKcOAABXBgAABQYAADYKAACKDQAA7wsAAEMMAAB/CAAAPBkAAP2DAACWDgAAOxQAAKUHAADQCAAAkgYAAIcTAABpBgAAIwYAAJAJAABNDwAAjQcAAP4HAACBCwAARA4AADcLAAAPCQAATwsAACoHAABbBwAA+QkAAFEhAABlCAAAAAoAACMOAAAnBQAA4QYAAI0MAACYBwAAFg4AABwFAABXBgAAFgcAADsIAACNBwAAZAMAAHsFAADEBQAA5wQAAA==",
           "dtype": "i4",
           "shape": "70"
          },
          "bdata": "YwMAAIwGAABJBAAAOwAAAAYQAADtBgAAZAwAADsFAAACCwAAfwsAADgRAAC+DQAA/QkAAJINAAB4DAAAKgoAAGcLAAAKCAAAuQYAAKUDAADpCAAA6gkAAKcOAABXBgAABQYAADYKAACKDQAA7wsAAEMMAAB/CAAAPBkAAP2DAACWDgAAOxQAAKUHAADQCAAAkgYAAIcTAABpBgAAIwYAAJAJAABNDwAAjQcAAP4HAACBCwAARA4AADcLAAAPCQAATwsAACoHAABbBwAA+QkAAFEhAABlCAAAAAoAACMOAAAnBQAA4QYAAI0MAACYBwAAFg4AABwFAABXBgAAFgcAADsIAACNBwAAZAMAAHsFAADEBQAA5wQAAA==",
          "dtype": "i4"
         },
         "yaxis": "y"
        }
       ],
       "layout": {
        "autosize": true,
        "barmode": "group",
        "font": {
         "size": 14
        },
        "legend": {
         "title": {
          "text": "Accident_Severity"
         },
         "tracegroupgap": 0
        },
        "margin": {
         "t": 60
        },
        "template": {
         "data": {
          "bar": [
           {
            "error_x": {
             "color": "#2a3f5f"
            },
            "error_y": {
             "color": "#2a3f5f"
            },
            "marker": {
             "line": {
              "color": "#E5ECF6",
              "width": 0.5
             },
             "pattern": {
              "fillmode": "overlay",
              "size": 10,
              "solidity": 0.2
             }
            },
            "type": "bar"
           }
          ],
          "barpolar": [
           {
            "marker": {
             "line": {
              "color": "#E5ECF6",
              "width": 0.5
             },
             "pattern": {
              "fillmode": "overlay",
              "size": 10,
              "solidity": 0.2
             }
            },
            "type": "barpolar"
           }
          ],
          "carpet": [
           {
            "aaxis": {
             "endlinecolor": "#2a3f5f",
             "gridcolor": "white",
             "linecolor": "white",
             "minorgridcolor": "white",
             "startlinecolor": "#2a3f5f"
            },
            "baxis": {
             "endlinecolor": "#2a3f5f",
             "gridcolor": "white",
             "linecolor": "white",
             "minorgridcolor": "white",
             "startlinecolor": "#2a3f5f"
            },
            "type": "carpet"
           }
          ],
          "choropleth": [
           {
            "colorbar": {
             "outlinewidth": 0,
             "ticks": ""
            },
            "type": "choropleth"
           }
          ],
          "contour": [
           {
            "colorbar": {
             "outlinewidth": 0,
             "ticks": ""
            },
            "colorscale": [
             [
              0,
              "#0d0887"
             ],
             [
              0.1111111111111111,
              "#46039f"
             ],
             [
              0.2222222222222222,
              "#7201a8"
             ],
             [
              0.3333333333333333,
              "#9c179e"
             ],
             [
              0.4444444444444444,
              "#bd3786"
             ],
             [
              0.5555555555555556,
              "#d8576b"
             ],
             [
              0.6666666666666666,
              "#ed7953"
             ],
             [
              0.7777777777777778,
              "#fb9f3a"
             ],
             [
              0.8888888888888888,
              "#fdca26"
             ],
             [
              1,
              "#f0f921"
             ]
            ],
            "type": "contour"
           }
          ],
          "contourcarpet": [
           {
            "colorbar": {
             "outlinewidth": 0,
             "ticks": ""
            },
            "type": "contourcarpet"
           }
          ],
          "heatmap": [
           {
            "colorbar": {
             "outlinewidth": 0,
             "ticks": ""
            },
            "colorscale": [
             [
              0,
              "#0d0887"
             ],
             [
              0.1111111111111111,
              "#46039f"
             ],
             [
              0.2222222222222222,
              "#7201a8"
             ],
             [
              0.3333333333333333,
              "#9c179e"
             ],
             [
              0.4444444444444444,
              "#bd3786"
             ],
             [
              0.5555555555555556,
              "#d8576b"
             ],
             [
              0.6666666666666666,
              "#ed7953"
             ],
             [
              0.7777777777777778,
              "#fb9f3a"
             ],
             [
              0.8888888888888888,
              "#fdca26"
             ],
             [
              1,
              "#f0f921"
             ]
            ],
            "type": "heatmap"
           }
          ],
          "histogram": [
           {
            "marker": {
             "pattern": {
              "fillmode": "overlay",
              "size": 10,
              "solidity": 0.2
             }
            },
            "type": "histogram"
           }
          ],
          "histogram2d": [
           {
            "colorbar": {
             "outlinewidth": 0,
             "ticks": ""
            },
            "colorscale": [
             [
              0,
              "#0d0887"
             ],
             [
              0.1111111111111111,
              "#46039f"
             ],
             [
              0.2222222222222222,
              "#7201a8"
             ],
             [
              0.3333333333333333,
              "#9c179e"
             ],
             [
              0.4444444444444444,
              "#bd3786"
             ],
             [
              0.5555555555555556,
              "#d8576b"
             ],
             [
              0.6666666666666666,
              "#ed7953"
             ],
             [
              0.7777777777777778,
              "#fb9f3a"
             ],
             [
              0.8888888888888888,
              "#fdca26"
             ],
             [
              1,
              "#f0f921"
             ]
            ],
            "type": "histogram2d"
           }
          ],
          "histogram2dcontour": [
           {
            "colorbar": {
             "outlinewidth": 0,
             "ticks": ""
            },
            "colorscale": [
             [
              0,
              "#0d0887"
             ],
             [
              0.1111111111111111,
              "#46039f"
             ],
             [
              0.2222222222222222,
              "#7201a8"
             ],
             [
              0.3333333333333333,
              "#9c179e"
             ],
             [
              0.4444444444444444,
              "#bd3786"
             ],
             [
              0.5555555555555556,
              "#d8576b"
             ],
             [
              0.6666666666666666,
              "#ed7953"
             ],
             [
              0.7777777777777778,
              "#fb9f3a"
             ],
             [
              0.8888888888888888,
              "#fdca26"
             ],
             [
              1,
              "#f0f921"
             ]
            ],
            "type": "histogram2dcontour"
           }
          ],
          "mesh3d": [
           {
            "colorbar": {
             "outlinewidth": 0,
             "ticks": ""
            },
            "type": "mesh3d"
           }
          ],
          "parcoords": [
           {
            "line": {
             "colorbar": {
              "outlinewidth": 0,
              "ticks": ""
             }
            },
            "type": "parcoords"
           }
          ],
          "pie": [
           {
            "automargin": true,
            "type": "pie"
           }
          ],
          "scatter": [
           {
            "fillpattern": {
             "fillmode": "overlay",
             "size": 10,
             "solidity": 0.2
            },
            "type": "scatter"
           }
          ],
          "scatter3d": [
           {
            "line": {
             "colorbar": {
              "outlinewidth": 0,
              "ticks": ""
             }
            },
            "marker": {
             "colorbar": {
              "outlinewidth": 0,
              "ticks": ""
             }
            },
            "type": "scatter3d"
           }
          ],
          "scattercarpet": [
           {
            "marker": {
             "colorbar": {
              "outlinewidth": 0,
              "ticks": ""
             }
            },
            "type": "scattercarpet"
           }
          ],
          "scattergeo": [
           {
            "marker": {
             "colorbar": {
              "outlinewidth": 0,
              "ticks": ""
             }
            },
            "type": "scattergeo"
           }
          ],
          "scattergl": [
           {
            "marker": {
             "colorbar": {
              "outlinewidth": 0,
              "ticks": ""
             }
            },
            "type": "scattergl"
           }
          ],
          "scattermap": [
           {
            "marker": {
             "colorbar": {
              "outlinewidth": 0,
              "ticks": ""
             }
            },
            "type": "scattermap"
           }
          ],
          "scattermapbox": [
           {
            "marker": {
             "colorbar": {
              "outlinewidth": 0,
              "ticks": ""
             }
            },
            "type": "scattermapbox"
           }
          ],
          "scatterpolar": [
           {
            "marker": {
             "colorbar": {
              "outlinewidth": 0,
              "ticks": ""
             }
            },
            "type": "scatterpolar"
           }
          ],
          "scatterpolargl": [
           {
            "marker": {
             "colorbar": {
              "outlinewidth": 0,
              "ticks": ""
             }
            },
            "type": "scatterpolargl"
           }
          ],
          "scatterternary": [
           {
            "marker": {
             "colorbar": {
              "outlinewidth": 0,
              "ticks": ""
             }
            },
            "type": "scatterternary"
           }
          ],
          "surface": [
           {
            "colorbar": {
             "outlinewidth": 0,
             "ticks": ""
            },
            "colorscale": [
             [
              0,
              "#0d0887"
             ],
             [
              0.1111111111111111,
              "#46039f"
             ],
             [
              0.2222222222222222,
              "#7201a8"
             ],
             [
              0.3333333333333333,
              "#9c179e"
             ],
             [
              0.4444444444444444,
              "#bd3786"
             ],
             [
              0.5555555555555556,
              "#d8576b"
             ],
             [
              0.6666666666666666,
              "#ed7953"
             ],
             [
              0.7777777777777778,
              "#fb9f3a"
             ],
             [
              0.8888888888888888,
              "#fdca26"
             ],
             [
              1,
              "#f0f921"
             ]
            ],
            "type": "surface"
           }
          ],
          "table": [
           {
            "cells": {
             "fill": {
              "color": "#EBF0F8"
             },
             "line": {
              "color": "white"
             }
            },
            "header": {
             "fill": {
              "color": "#C8D4E3"
             },
             "line": {
              "color": "white"
             }
            },
            "type": "table"
           }
          ]
         },
         "layout": {
          "annotationdefaults": {
           "arrowcolor": "#2a3f5f",
           "arrowhead": 0,
           "arrowwidth": 1
          },
          "autotypenumbers": "strict",
          "coloraxis": {
           "colorbar": {
            "outlinewidth": 0,
            "ticks": ""
           }
          },
          "colorscale": {
           "diverging": [
            [
             0,
             "#8e0152"
            ],
            [
             0.1,
             "#c51b7d"
            ],
            [
             0.2,
             "#de77ae"
            ],
            [
             0.3,
             "#f1b6da"
            ],
            [
             0.4,
             "#fde0ef"
            ],
            [
             0.5,
             "#f7f7f7"
            ],
            [
             0.6,
             "#e6f5d0"
            ],
            [
             0.7,
             "#b8e186"
            ],
            [
             0.8,
             "#7fbc41"
            ],
            [
             0.9,
             "#4d9221"
            ],
            [
             1,
             "#276419"
            ]
           ],
           "sequential": [
            [
             0,
             "#0d0887"
            ],
            [
             0.1111111111111111,
             "#46039f"
            ],
            [
             0.2222222222222222,
             "#7201a8"
            ],
            [
             0.3333333333333333,
             "#9c179e"
            ],
            [
             0.4444444444444444,
             "#bd3786"
            ],
            [
             0.5555555555555556,
             "#d8576b"
            ],
            [
             0.6666666666666666,
             "#ed7953"
            ],
            [
             0.7777777777777778,
             "#fb9f3a"
            ],
            [
             0.8888888888888888,
             "#fdca26"
            ],
            [
             1,
             "#f0f921"
            ]
           ],
           "sequentialminus": [
            [
             0,
             "#0d0887"
            ],
            [
             0.1111111111111111,
             "#46039f"
            ],
            [
             0.2222222222222222,
             "#7201a8"
            ],
            [
             0.3333333333333333,
             "#9c179e"
            ],
            [
             0.4444444444444444,
             "#bd3786"
            ],
            [
             0.5555555555555556,
             "#d8576b"
            ],
            [
             0.6666666666666666,
             "#ed7953"
            ],
            [
             0.7777777777777778,
             "#fb9f3a"
            ],
            [
             0.8888888888888888,
             "#fdca26"
            ],
            [
             1,
             "#f0f921"
            ]
           ]
          },
          "colorway": [
           "#636efa",
           "#EF553B",
           "#00cc96",
           "#ab63fa",
           "#FFA15A",
           "#19d3f3",
           "#FF6692",
           "#B6E880",
           "#FF97FF",
           "#FECB52"
          ],
          "font": {
           "color": "#2a3f5f"
          },
          "geo": {
           "bgcolor": "white",
           "lakecolor": "white",
           "landcolor": "#E5ECF6",
           "showlakes": true,
           "showland": true,
           "subunitcolor": "white"
          },
          "hoverlabel": {
           "align": "left"
          },
          "hovermode": "closest",
          "mapbox": {
           "style": "light"
          },
          "paper_bgcolor": "white",
          "plot_bgcolor": "#E5ECF6",
          "polar": {
           "angularaxis": {
            "gridcolor": "white",
            "linecolor": "white",
            "ticks": ""
           },
           "bgcolor": "#E5ECF6",
           "radialaxis": {
            "gridcolor": "white",
            "linecolor": "white",
            "ticks": ""
           }
          },
          "scene": {
           "xaxis": {
            "backgroundcolor": "#E5ECF6",
            "gridcolor": "white",
            "gridwidth": 2,
            "linecolor": "white",
            "showbackground": true,
            "ticks": "",
            "zerolinecolor": "white"
           },
           "yaxis": {
            "backgroundcolor": "#E5ECF6",
            "gridcolor": "white",
            "gridwidth": 2,
            "linecolor": "white",
            "showbackground": true,
            "ticks": "",
            "zerolinecolor": "white"
           },
           "zaxis": {
            "backgroundcolor": "#E5ECF6",
            "gridcolor": "white",
            "gridwidth": 2,
            "linecolor": "white",
            "showbackground": true,
            "ticks": "",
            "zerolinecolor": "white"
           }
          },
          "shapedefaults": {
           "line": {
            "color": "#2a3f5f"
           }
          },
          "ternary": {
           "aaxis": {
            "gridcolor": "white",
            "linecolor": "white",
            "ticks": ""
           },
           "baxis": {
            "gridcolor": "white",
            "linecolor": "white",
            "ticks": ""
           },
           "bgcolor": "#E5ECF6",
           "caxis": {
            "gridcolor": "white",
            "linecolor": "white",
            "ticks": ""
           }
          },
          "title": {
           "x": 0.05
          },
          "xaxis": {
           "automargin": true,
           "gridcolor": "white",
           "linecolor": "white",
           "ticks": "",
           "title": {
            "standoff": 15
           },
           "zerolinecolor": "white",
           "zerolinewidth": 2
          },
          "yaxis": {
           "automargin": true,
           "gridcolor": "white",
           "linecolor": "white",
           "ticks": "",
           "title": {
            "standoff": 15
           },
           "zerolinecolor": "white",
           "zerolinewidth": 2
          }
         }
        },
        "title": {
         "text": "Accidents by location and severity in 2021 in the United Kingdom"
        },
        "xaxis": {
         "anchor": "y",
         "autorange": true,
         "domain": [
          0,
          1
         ],
         "range": [
          -0.5,
          69.5
         ],
         "tickangle": 90,
         "title": {
          "text": "Location and severity"
         },
         "type": "category"
        },
        "yaxis": {
         "anchor": "x",
         "autorange": true,
         "domain": [
          0,
          1
         ],
         "range": [
          0,
          35567.36842105263
         ],
         "title": {
          "text": "Number of accidents"
         },
         "type": "linear"
        }
       }
      }
     },
     "metadata": {},
     "output_type": "display_data"
    },
    {
     "data": {
      "text/plain": [
       "<Figure size 3000x1200 with 0 Axes>"
      ]
     },
     "metadata": {},
     "output_type": "display_data"
    }
   ],
   "source": [
    "severity_counts = X_train.groupby([X_train['Location'], y_train]).size().unstack(fill_value=0)\n",
    "plt.figure(figsize=(30, 12))\n",
    "severity_counts.plot(kind='bar', stacked=False, edgecolor='black', color=['blue', 'orange', 'red'])\n",
    "plt.xlabel(\"Location\", fontsize=14)\n",
    "plt.ylabel(\"Number of accidents\", fontsize=14)\n",
    "plt.title(\"Accidents by location and severity\", fontsize=16)\n",
    "plt.xticks(rotation=90, ha=\"center\", fontsize=10)\n",
    "plt.close()\n",
    "fig = px.bar(severity_counts, barmode='group', color_discrete_sequence=['blue', 'orange', 'red'])\n",
    "fig.update_layout(\n",
    "    title=\"Accidents by location and severity in 2021 in the United Kingdom\",\n",
    "    xaxis_title=\"Location and severity\",\n",
    "    yaxis_title=\"Number of accidents\",\n",
    "    xaxis_tickangle=90,\n",
    "    font=dict(size=14)\n",
    ")\n",
    "fig.write_html(\"accidents_by_location_and_severity.html\")\n",
    "fig.show()"
   ]
  },
  {
   "cell_type": "markdown",
   "id": "0b76e65c",
   "metadata": {},
   "source": [
    "Since we already have our new 'Location' column, we can delete 'Latitude' and 'Longitude' columns."
   ]
  },
  {
   "cell_type": "code",
   "execution_count": 20,
   "id": "70c0df1a",
   "metadata": {},
   "outputs": [],
   "source": [
    "# Train data\n",
    "\n",
    "X_train.drop(['Latitude', 'Longitude'], axis=1, inplace=True)\n",
    "\n",
    "# Test data\n",
    "\n",
    "X_test.drop(['Latitude', 'Longitude'], axis=1, inplace=True)"
   ]
  },
  {
   "cell_type": "markdown",
   "id": "0ab255f9",
   "metadata": {},
   "source": [
    "Now, it is time to code ordinal categorical variables, those that have values of their domain related by order (including our target)."
   ]
  },
  {
   "cell_type": "code",
   "execution_count": 21,
   "id": "0fd5d7fc",
   "metadata": {},
   "outputs": [],
   "source": [
    "# Features\n",
    "\n",
    "days = {'Monday': 0, 'Tuesday': 1, 'Wednesday': 2, 'Thursday': 3, \n",
    " 'Friday': 4, 'Saturday': 5, 'Sunday': 6}\n",
    "\n",
    "months = {'Jan': 0, 'Feb': 1, 'Mar': 2, 'Apr': 3, 'May': 4, \n",
    " 'Jun': 5, 'Jul': 6, 'Aug': 7, 'Sep': 8, \n",
    " 'Oct': 9, 'Nov': 10, 'Dec': 11}\n",
    "\n",
    "day_time = {'Early Morning': 0, 'Sunrise': 1, 'Morning': 2, 'Noon': 3, \n",
    " 'Afternoon': 4, 'Sunset': 5, 'Night': 6}\n",
    "\n",
    "# Encoding train data\n",
    "\n",
    "X_train[\"Day_of_Week\"] = X_train[\"Day_of_Week\"].apply(lambda x: days[x])\n",
    "X_train[\"Month\"] = X_train[\"Month\"].apply(lambda x: months[x])\n",
    "X_train[\"Time\"] = X_train[\"Time\"].apply(lambda x: day_time[x])\n",
    "\n",
    "# Encoding test data (we assign -1 if any value that we have not codified previously is assigned to any sample)\n",
    "\n",
    "X_test[\"Day_of_Week\"] = X_test[\"Day_of_Week\"].apply(lambda x: days.get(x, -1))\n",
    "X_test[\"Month\"] = X_test[\"Month\"].apply(lambda x: months.get(x, -1))\n",
    "X_test[\"Time\"] = X_test[\"Time\"].apply(lambda x: day_time.get(x, -1)) \n",
    "\n",
    "# Target\n",
    "\n",
    "severity = {'Slight': 0, 'Serious': 1, 'Fatal': 2}\n",
    "\n",
    "# Train target\n",
    "\n",
    "y_train = y_train.apply(lambda x: severity[x])\n",
    "\n",
    "# Test target (same idea as before)\n",
    "\n",
    "y_test = y_test.apply(lambda x: severity.get(x, -1))"
   ]
  },
  {
   "cell_type": "markdown",
   "id": "b2be9757",
   "metadata": {},
   "source": [
    "Now, let's codify non-ordinal categorical features using Ordinal Encoder from SKLearn. Ordinal Encoder assigns digits to strings based on the alphabetical order."
   ]
  },
  {
   "cell_type": "code",
   "execution_count": 22,
   "id": "21775f24",
   "metadata": {},
   "outputs": [],
   "source": [
    "encoder = OrdinalEncoder()\n",
    "\n",
    "Non_Ordinal_Categorical_Features = [\"Junction_Control\", \"Junction_Detail\", \"Location\", \"Light_Conditions\",\n",
    "                                    \"Carriageway_Hazards\", \"Police_Force\", \"Road_Surface_Conditions\",\n",
    "                                    \"Road_Type\", \"Urban_or_Rural_Area\", \"Weather_Conditions\", \"Vehicle_Type\"]\n",
    "\n",
    "# Encoding train data \n",
    "\n",
    "X_train[Non_Ordinal_Categorical_Features] = encoder.fit_transform(X_train[Non_Ordinal_Categorical_Features])\n",
    "\n",
    "# Encoding test data\n",
    "\n",
    "X_test[Non_Ordinal_Categorical_Features] = encoder.transform(X_test[Non_Ordinal_Categorical_Features])"
   ]
  },
  {
   "cell_type": "markdown",
   "id": "d0676df9-4ed9-4771-bc55-379945a2abe2",
   "metadata": {},
   "source": [
    "Finally, let's see how distributed our target is."
   ]
  },
  {
   "cell_type": "code",
   "execution_count": 23,
   "id": "1876e4c5-c520-4e7d-b5c3-0283c5f44143",
   "metadata": {},
   "outputs": [
    {
     "data": {
      "image/png": "[encoded data removed]",
      "text/plain": [
       "<Figure size 400x200 with 1 Axes>"
      ]
     },
     "metadata": {},
     "output_type": "display_data"
    },
    {
     "name": "stdout",
     "output_type": "stream",
     "text": [
      "Accident_Severity\n",
      "0    210462\n",
      "1     32733\n",
      "2      3183\n",
      "Name: count, dtype: int64\n",
      "Accident_Severity\n",
      "0    0.854224\n",
      "1    0.132857\n",
      "2    0.012919\n",
      "Name: proportion, dtype: float64\n"
     ]
    }
   ],
   "source": [
    "def showTargetDistribution(target):\n",
    "    plt.figure(figsize=(4, 2))\n",
    "    sns.countplot(x=target)\n",
    "    plt.title('Accident_Severity original train distribution')\n",
    "    plt.ylabel('Number of accidents')\n",
    "    plt.xlabel(\"Accident Severity\")\n",
    "    plt.xticks(ticks=[0, 1, 2], labels=['Slight','Serious', 'Fatal'])\n",
    "    plt.show()\n",
    "\n",
    "    counts = target.value_counts()\n",
    "    print(counts)\n",
    "\n",
    "    proportions = target.value_counts(normalize=True)\n",
    "    print(proportions)\n",
    "    \n",
    "showTargetDistribution(y_train)"
   ]
  },
  {
   "cell_type": "markdown",
   "id": "a37b5a9e-4e72-4e82-907c-50b63688ac92",
   "metadata": {},
   "source": [
    "Given that our target variable is highly imbalanced—with one class representing 85% of the total samples and another only 0.01%—we will apply the SMOTE technique to address it.\n",
    "\n",
    "Since SMOTE can introduce noise, we won't fully equalize distributions. Instead, we'll use Tomek Links undersampling to remove ambiguous samples located too close to a decision boundary."
   ]
  },
  {
   "cell_type": "code",
   "execution_count": 24,
   "id": "adfdc3d6-a611-4014-8dde-b1e540f713ee",
   "metadata": {},
   "outputs": [],
   "source": [
    "smotenc = SMOTENC(list(X_train.drop([\"Number_of_Casualties\", \"Number_of_Vehicles\"], axis=1).columns), random_state=42, \n",
    "                  sampling_strategy={1: int(len(y_train[y_train==0])*1.2), 2: int(len(y_train[y_train==0])*1.2)})\n",
    "X_train_r, y_train_r = TomekLinks().fit_resample(*smotenc.fit_resample(X_train, y_train))"
   ]
  },
  {
   "cell_type": "code",
   "execution_count": 25,
   "id": "e809365d-d0c1-4ffd-967e-9fdb0ee3f050",
   "metadata": {},
   "outputs": [
    {
     "data": {
      "image/png": "[encoded data removed]",
      "text/plain": [
       "<Figure size 400x200 with 1 Axes>"
      ]
     },
     "metadata": {},
     "output_type": "display_data"
    },
    {
     "name": "stdout",
     "output_type": "stream",
     "text": [
      "Accident_Severity\n",
      "0    210462\n",
      "2    201543\n",
      "1    192061\n",
      "Name: count, dtype: int64\n",
      "Accident_Severity\n",
      "0    0.348409\n",
      "2    0.333644\n",
      "1    0.317947\n",
      "Name: proportion, dtype: float64\n"
     ]
    }
   ],
   "source": [
    "showTargetDistribution(y_train_r)"
   ]
  },
  {
   "cell_type": "code",
   "execution_count": 26,
   "id": "5a953968-dc6b-4fb3-8700-991d1a870400",
   "metadata": {},
   "outputs": [],
   "source": [
    "# Checkpoint\n",
    "\n",
    "checkpoint_variables = { \n",
    "    \"X_train\": X_train, \"X_test\": X_test, \n",
    "    \"y_train\": y_train, \"y_test\": y_test, \n",
    "    \"X_train_r\": X_train_r, \"y_train_r\": y_train_r \n",
    "}\n",
    "\n",
    "with open(\"variables.pkl\", \"wb\") as f:\n",
    "    pickle.dump(checkpoint_variables, f)"
   ]
  },
  {
   "cell_type": "code",
   "execution_count": 9,
   "id": "827e73d4-0220-4983-bd29-0fd954eda1b7",
   "metadata": {},
   "outputs": [],
   "source": [
    "with open(\"variables.pkl\", \"rb\") as f:\n",
    "    checkpoint_variables = pickle.load(f)\n",
    "\n",
    "X_train = checkpoint_variables[\"X_train\"]\n",
    "X_test = checkpoint_variables[\"X_test\"]\n",
    "y_train = checkpoint_variables[\"y_train\"]\n",
    "y_test = checkpoint_variables[\"y_test\"]\n",
    "X_train_r = checkpoint_variables[\"X_train_r\"]\n",
    "y_train_r = checkpoint_variables[\"y_train_r\"]"
   ]
  },
  {
   "attachments": {},
   "cell_type": "markdown",
   "id": "02280d53-3aca-4b8a-9fd4-dcf58d588082",
   "metadata": {},
   "source": [
    "### 1. Model Training\n"
   ]
  },
  {
   "cell_type": "markdown",
   "id": "ead589ae-994c-4e29-8063-dee79e03b6a3",
   "metadata": {},
   "source": [
    "#### 1.0 Metric Selection"
   ]
  },
  {
   "cell_type": "markdown",
   "id": "59c8cde1-0a3d-4c81-91cd-bf03b34459b5",
   "metadata": {},
   "source": [
    "To develop a model that accurately classifies all three accident severity levels, the F1 score is a suitable metric as it accounts for both precision and recall, ensuring balanced performance across classes. Although accuracy can be used given the balanced dataset, it merely reflects the overall correctness without considering class-wise performance.\n",
    "\n",
    "Macro F1 is chosen as our main metric, as it calculates the F1 score for each class independently and averages them equally, thus providing an unbiased assessment regardless of minor class size variations."
   ]
  },
  {
   "cell_type": "markdown",
   "id": "bd84cd81-daee-4799-8024-9f9d08255f6a",
   "metadata": {},
   "source": [
    "#### 1.1 XGBoost (Boosting Algorithm)"
   ]
  },
  {
   "cell_type": "markdown",
   "id": "d43c7453-3779-42ed-874b-2bd6976dd150",
   "metadata": {},
   "source": [
    "We are going to start training a XGBoost classifier. The implementation used in this case is extracted from XGBoost library. To obtain the best possible parameters, we are going to use Randomized Search (along with Stratified Shuffle Split), which randomly selects combinations of specified parameter values instead of exhaustively searching over all possible combinations. This approach is more efficient, especially when dealing with a large number of parameters."
   ]
  },
  {
   "cell_type": "code",
   "execution_count": null,
   "id": "c3d4621d-c730-4e29-856e-855531dd86c1",
   "metadata": {},
   "outputs": [
    {
     "name": "stdout",
     "output_type": "stream",
     "text": [
      "Fitting 3 folds for each of 10 candidates, totalling 30 fits\n"
     ]
    }
   ],
   "source": [
    "XGBoost_Model = xgb.XGBClassifier(tree_method='hist', device='cpu')\n",
    "\n",
    "param_dist = {\n",
    "    'n_estimators': list(np.arange(600, 1551, 10)), # Number of trees\n",
    "    'max_depth': list(np.arange(1, 16, 10)),  # Maximum depth of trees\n",
    "    'learning_rate': np.linspace(0.01, 0.5, 10), # Learning rate\n",
    "    'subsample': np.linspace(0.04, 1.0, 10), # Percentage of samples randomly used to create each tree\n",
    "    'colsample_bytree': np.linspace(0.04, 0.8, 10), # Percentage of features randomly used to create each tree\n",
    "    'reg_lambda': np.linspace(0, 3, 10), # L2 Regularization\n",
    "    'alpha': np.linspace(0.01, 0.8, 10),  # L1 Regularization\n",
    "}\n",
    "\n",
    "sss = StratifiedShuffleSplit(n_splits=3, test_size=0.2, random_state=42)\n",
    "\n",
    "random_search = RandomizedSearchCV(XGBoost_Model, param_distributions=param_dist, n_iter=10, cv=sss, verbose=3, random_state=42, n_jobs=-1, scoring=\"f1_macro\")\n",
    "in_time = time.time()\n",
    "random_search.fit(X_train_r, y_train_r)\n",
    "print(\"Total Randomized Search execution time: \", time.time()-in_time)\n",
    "\n",
    "best_model_XGB = random_search.best_estimator_\n",
    "best_params_XGB = random_search.best_params_\n",
    "best_score_XGB = random_search.best_score_\n",
    "\n",
    "print(f\"Best Model: {best_model_XGB}\")\n",
    "print(f\"Best Parameters: {best_params_XGB}\")\n",
    "print(f\"Best Score: {best_score_XGB}\")"
   ]
  },
  {
   "cell_type": "code",
   "execution_count": null,
   "id": "bacfa4d2-677e-43b7-af9a-7561b8c09455",
   "metadata": {},
   "outputs": [],
   "source": [
    "XGBoost_Model = xgb.XGBClassifier(num_class=3, objective=\"multi:softprob\", **best_params_XGB, tree_method='hist', device='cpu')\n",
    "y_pred = cross_val_predict(XGBoost_Model, X_train_r, y_train_r, cv=5)\n",
    "cm = confusion_matrix(y_train_r, y_pred)\n",
    "print(\"\\nConfusion Matrix:\")\n",
    "print(cm)\n",
    "print(\"\\nReport per class:\")\n",
    "print(classification_report(y_train_r, y_pred))"
   ]
  },
  {
   "cell_type": "markdown",
   "id": "fa6e064d-9edc-4188-b2f9-f76c6f674ef0",
   "metadata": {},
   "source": [
    "From the scores and the confusion matrix, we can observe that our XGBoost model is fine detecting \"Slight accidents\" but not that good when it comes to \"Serious\" and \"Fatal accidents\". \n",
    "\n",
    "The most probable reason that explains this could be that our model is not learning from the minority classes, so a technique that we could use to combat this situation is calculate specific weights per each class so the XGBoost model can act differently in function of the importance or frequency of each class.\n",
    "\n",
    "By assigning higher weights to minority classes and lower weights to majority classes, the model will give more focus to the underrepresented classes during training. This helps balance the influence each class has on the loss function, improving the model’s ability to correctly predict minority classes and reducing bias towards the majority class."
   ]
  },
  {
   "cell_type": "code",
   "execution_count": null,
   "id": "1cf69d5e-50b4-44e8-b7b9-2481e0f78671",
   "metadata": {},
   "outputs": [],
   "source": [
    "sss = StratifiedShuffleSplit(n_splits=3, test_size=0.5, random_state=7)\n",
    "y_pred = np.empty_like(y_train_r)\n",
    "\n",
    "for train_idx, test_idx in sss.split(X_train_r, y_train_r):\n",
    "    X_tr, X_te = X_train_r.iloc[train_idx], X_train_r.iloc[test_idx]\n",
    "    y_tr, y_te = y_train_r[train_idx], y_train_r[test_idx]\n",
    "    current_weights_tr = compute_sample_weight(class_weight='balanced', y=y_tr)\n",
    "\n",
    "    model = xgb.XGBClassifier(**best_params_XGB, tree_method='hist', device='cpu')\n",
    "    model.fit(X_tr, y_tr, sample_weight=current_weights_tr)\n",
    "    \n",
    "    y_pred[test_idx] = model.predict(X_te)\n",
    "\n",
    "print(classification_report(y_train_r, y_pred))"
   ]
  },
  {
   "cell_type": "markdown",
   "id": "2d60fd58-1c0a-4f26-93a2-e72fc1711334",
   "metadata": {},
   "source": [
    "As we can see, using specific weights per sample have not been very useful. Indeed, our metrics are even worse. Given that the problem that XGBoost is experimenting is not related to the weightes, let's plot ROC and PR curves, in order to investigate if the problem could be caused by a bad decision threshold."
   ]
  },
  {
   "cell_type": "code",
   "execution_count": null,
   "id": "1eed2099-f9ea-43f8-ad49-96e605f5c8bb",
   "metadata": {},
   "outputs": [],
   "source": [
    "def plot_ROC(x_validation, y_validation, model):\n",
    "    probs = model.predict_proba(x_validation)\n",
    "\n",
    "    # Model might return a list of arrays. If that is the case, it must be necessary to concatenate them\n",
    "    if isinstance(probs, list):\n",
    "        probs = np.vstack([p[:, 1] for p in probs]).T\n",
    "\n",
    "    # Binarizes y_validation (One-Hot conversion)\n",
    "    classes = np.unique(y_validation)\n",
    "    y_bin = label_binarize(y_validation, classes=classes)\n",
    "\n",
    "    plt.figure(figsize=(8, 6))\n",
    "    \n",
    "    # ROC curves for each class\n",
    "    for i, class_label in enumerate(classes):\n",
    "        fpr, tpr, _ = roc_curve(y_bin[:, i], probs[:, i])\n",
    "        roc_auc = roc_auc_score(y_bin[:, i], probs[:, i])\n",
    "        plt.plot(fpr, tpr, label=f'Class {class_label} (AUC = {roc_auc:.2f})')\n",
    "\n",
    "    # Micro-average ROC curve (all classes if they were the same)\n",
    "    fpr_micro, tpr_micro, _ = roc_curve(y_bin.ravel(), probs.ravel())\n",
    "    roc_auc_micro = roc_auc_score(y_bin, probs, average=\"micro\")\n",
    "    plt.plot(fpr_micro, tpr_micro, linestyle='--', color='black', \n",
    "             label=f'Micro-average ROC (AUC = {roc_auc_micro:.2f})')\n",
    "\n",
    "    plt.title('Multiclass ROC curves')\n",
    "    plt.xlabel('False Positive Rate')\n",
    "    plt.ylabel('True Positive Rate')\n",
    "    plt.legend()\n",
    "    plt.show()\n",
    "\n",
    "def plot_PR(x_validation, y_validation, model):\n",
    "    probs = model.predict_proba(x_validation)\n",
    "\n",
    "    # Model might return a list of arrays. If that is the case, it must be necessary to concatenate them\n",
    "    if isinstance(probs, list):\n",
    "        probs = np.vstack([p[:, 1] for p in probs]).T\n",
    "\n",
    "    classes = np.unique(y_validation)\n",
    "    y_bin = label_binarize(y_validation, classes=classes)\n",
    "\n",
    "    plt.figure(figsize=(8, 6))\n",
    "\n",
    "    # PR curves for each class\n",
    "    for i, class_label in enumerate(classes):\n",
    "        precision, recall, _ = precision_recall_curve(y_bin[:, i], probs[:, i])\n",
    "        pr_auc = auc(recall, precision)\n",
    "        plt.plot(recall, precision, label=f'Class {class_label} (AUC = {pr_auc:.2f})')\n",
    "\n",
    "    # Micro-average PR curve (all classes if they were the same)\n",
    "    precision_micro, recall_micro, _ = precision_recall_curve(y_bin.ravel(), probs.ravel())\n",
    "    pr_auc_micro = auc(recall_micro, precision_micro)\n",
    "    plt.plot(recall_micro, precision_micro, linestyle='--', color='black', \n",
    "             label=f'Micro-average PR (AUC = {pr_auc_micro:.2f})')\n",
    "\n",
    "    plt.title('Multiclass Precision-Recall curves')\n",
    "    plt.xlabel('Recall')\n",
    "    plt.ylabel('Precision')\n",
    "    plt.legend()\n",
    "    plt.show()\n",
    "\n",
    "def plot_learning_curves(train_sizes, train_scores, val_scores, scoring, ylim=None):\n",
    "    #train_sizes, train_scores, val_scores = learning_curve(estimator, X, y, cv=cv, scoring=scoring, n_jobs=n_jobs, train_sizes=train_sizes)\n",
    "    train_scores_mean = np.mean(train_scores, axis=1)\n",
    "    train_scores_std = np.std(train_scores, axis=1)\n",
    "    val_scores_mean = np.mean(val_scores, axis=1)\n",
    "    val_scores_std = np.std(val_scores, axis=1)\n",
    "\n",
    "    plt.figure()\n",
    "    plt.title('Learning curves')\n",
    "    if ylim is not None:\n",
    "        plt.ylim(*ylim)\n",
    "    plt.xlabel('Training set size')\n",
    "    plt.ylabel(f'{scoring} Score')\n",
    "    plt.grid()\n",
    "    plt.fill_between(train_sizes, train_scores_mean - train_scores_std, train_scores_mean + train_scores_std, alpha=0.1, color='r')\n",
    "    plt.fill_between(train_sizes, val_scores_mean - val_scores_std, val_scores_mean + val_scores_std, alpha=0.1, color='g')\n",
    "    plt.plot(train_sizes, train_scores_mean, 'o-', color='r', label='Training score')\n",
    "    plt.plot(train_sizes, val_scores_mean, 'o-', color='g', label='Validation score')\n",
    "    plt.legend(loc='best')\n",
    "    plt.show()"
   ]
  },
  {
   "cell_type": "markdown",
   "id": "bc228980-25cb-4b50-a3f8-fc76d221b4c9",
   "metadata": {},
   "source": [
    "In order to plot curves, let's first do a quick and simple cross validation, using the best parameters found previously (they already are being used in XGBoost_Model)."
   ]
  },
  {
   "cell_type": "code",
   "execution_count": null,
   "id": "e372c7d6-2048-4bd0-b62b-896b560efcbb",
   "metadata": {},
   "outputs": [],
   "source": [
    "X_train_r_CURVES, X_validation_r_CURVES, y_train_r_CURVES, y_validation_r_CURVES = train_test_split(X_train_r, y_train_r, test_size=0.2, random_state=42)\n",
    "XGBoost_Model.fit(X_train_r_CURVES, y_train_r_CURVES)\n",
    "y_pred_CURVES = XGBoost_Model.predict(X_validation_r_CURVES)\n",
    "print(classification_report(y_validation_r_CURVES, y_pred_CURVES))"
   ]
  },
  {
   "cell_type": "code",
   "execution_count": null,
   "id": "4bc920ff-987a-4722-988c-d7396366a6ce",
   "metadata": {},
   "outputs": [],
   "source": [
    "plot_ROC(X_validation_r_CURVES, y_validation_r_CURVES, XGBoost_Model)\n",
    "plot_PR(X_validation_r_CURVES, y_validation_r_CURVES, XGBoost_Model)"
   ]
  },
  {
   "cell_type": "markdown",
   "id": "e499527d-cd14-4d07-9995-00392c914bc6",
   "metadata": {},
   "source": [
    "From the learning curves plot above, we can extract the following information:\n",
    "\n",
    "- XGBoost model can easily distinguish whether an accident has a slight severity or not and it does not usually fail classifying it (high AUC for Class 0 both ROC and PR curves, 0.97 and 0.91 respectively).\n",
    "\n",
    "- XGBoost model has serveral problems classifying both severe and fatal accidents, as we see that AUC-ROC and, specially, AUC-PR metrics are much worse than for slight accidents.\n",
    "\n",
    "- Decision threshold for XGBoost model is pretty accurated, as PR curve does not show any point (any threshold) which can lead to a better trade-off between Precision and Recall for any class."
   ]
  },
  {
   "cell_type": "code",
   "execution_count": null,
   "id": "571b1afa-609f-478d-a337-6a7400c3824c",
   "metadata": {},
   "outputs": [],
   "source": [
    "sss = StratifiedShuffleSplit(n_splits=3, test_size=0.2, random_state=7)\n",
    "train_sizes, train_scores, val_scores = learning_curve(XGBoost_Model, X_train_r, y_train_r, cv=sss, \n",
    "                                                       scoring='f1_macro', n_jobs=-1, train_sizes=np.linspace(0.1, 1.0, 10))\n",
    "plot_learning_curves(train_sizes, train_scores, val_scores, 'f1_macro')"
   ]
  },
  {
   "cell_type": "markdown",
   "id": "1fe21fc1-7536-470c-9ffd-b22fea13913e",
   "metadata": {},
   "source": [
    "Note that the performance on the training set is only slightly higher than on the validation set. This indicates that our model is not highly overfitting the training data.\n",
    "\n",
    "Also, when the model is trained on the entire dataset, its performance remains stable (indeed, it starts to decrease). This suggests that the current number of samples is sufficient and that adding more data is unlikely to yield significant improvements in performance."
   ]
  },
  {
   "cell_type": "markdown",
   "id": "84f03c10-372e-43b2-92c5-71ba444cea27",
   "metadata": {},
   "source": [
    "#### 1.2 Multilayer Perceptron (Neural Network)"
   ]
  },
  {
   "cell_type": "markdown",
   "id": "f726a898-64fb-4ebe-bb3e-41af7a76e767",
   "metadata": {},
   "source": [
    "Now, let's try with a Neuronal Network (Multilayer perceptron, which is a fully connected feedforward network used for classification and regression), implemented with Pytorch.\n",
    "\n",
    "But first, we will have to encode our data using One Hot Encoder. It is important to use One Hot encoding because Neural Networks do not understand categorical variables numerically codified, except if they are binary.\n",
    "\n",
    "Also, numerical features should be standarized (\"Number_of_Casualties\" and \"Number_of_Vehicles\"). "
   ]
  },
  {
   "cell_type": "code",
   "execution_count": 10,
   "id": "b5329292-a7b9-4889-b108-ef371ad62f4e",
   "metadata": {},
   "outputs": [
    {
     "name": "stdout",
     "output_type": "stream",
     "text": [
      "       Number_of_Casualties  Number_of_Vehicles        Month_0        Month_1  \\\n",
      "count          6.040660e+05        6.040660e+05  604066.000000  604066.000000   \n",
      "mean          -6.022486e-17       -1.264722e-16       0.081920       0.078147   \n",
      "std            1.000001e+00        1.000001e+00       0.274243       0.268403   \n",
      "min           -4.450112e-01       -9.733940e-01       0.000000       0.000000   \n",
      "25%           -4.450112e-01       -9.733940e-01       0.000000       0.000000   \n",
      "50%           -4.450112e-01        2.826818e-01       0.000000       0.000000   \n",
      "75%            3.461387e-01        2.826818e-01       0.000000       0.000000   \n",
      "max            3.673903e+01        3.796496e+01       1.000000       1.000000   \n",
      "\n",
      "             Month_2        Month_3        Month_4        Month_5  \\\n",
      "count  604066.000000  604066.000000  604066.000000  604066.000000   \n",
      "mean        0.082782       0.081082       0.084001       0.084540   \n",
      "std         0.275553       0.272962       0.277389       0.278197   \n",
      "min         0.000000       0.000000       0.000000       0.000000   \n",
      "25%         0.000000       0.000000       0.000000       0.000000   \n",
      "50%         0.000000       0.000000       0.000000       0.000000   \n",
      "75%         0.000000       0.000000       0.000000       0.000000   \n",
      "max         1.000000       1.000000       1.000000       1.000000   \n",
      "\n",
      "             Month_6        Month_7  ...  Location_60.0  Location_61.0  \\\n",
      "count  604066.000000  604066.000000  ...  604066.000000  604066.000000   \n",
      "mean        0.084459       0.082466  ...       0.015359       0.011138   \n",
      "std         0.278076       0.275074  ...       0.122977       0.104947   \n",
      "min         0.000000       0.000000  ...       0.000000       0.000000   \n",
      "25%         0.000000       0.000000  ...       0.000000       0.000000   \n",
      "50%         0.000000       0.000000  ...       0.000000       0.000000   \n",
      "75%         0.000000       0.000000  ...       0.000000       0.000000   \n",
      "max         1.000000       1.000000  ...       1.000000       1.000000   \n",
      "\n",
      "       Location_62.0  Location_63.0  Location_64.0  Location_65.0  \\\n",
      "count  604066.000000  604066.000000  604066.000000  604066.000000   \n",
      "mean        0.011646       0.012199       0.012500       0.012393   \n",
      "std         0.107287       0.109773       0.111104       0.110631   \n",
      "min         0.000000       0.000000       0.000000       0.000000   \n",
      "25%         0.000000       0.000000       0.000000       0.000000   \n",
      "50%         0.000000       0.000000       0.000000       0.000000   \n",
      "75%         0.000000       0.000000       0.000000       0.000000   \n",
      "max         1.000000       1.000000       1.000000       1.000000   \n",
      "\n",
      "       Location_66.0  Location_67.0  Location_68.0  Location_69.0  \n",
      "count  604066.000000  604066.000000  604066.000000  604066.000000  \n",
      "mean        0.010284       0.011040       0.011312       0.011343  \n",
      "std         0.100886       0.104491       0.105753       0.105898  \n",
      "min         0.000000       0.000000       0.000000       0.000000  \n",
      "25%         0.000000       0.000000       0.000000       0.000000  \n",
      "50%         0.000000       0.000000       0.000000       0.000000  \n",
      "75%         0.000000       0.000000       0.000000       0.000000  \n",
      "max         1.000000       1.000000       1.000000       1.000000  \n",
      "\n",
      "[8 rows x 218 columns]\n"
     ]
    }
   ],
   "source": [
    "enc = OneHotEncoder(sparse_output=True)\n",
    "\n",
    "X_train_r_OneHot = enc.fit_transform(X_train_r.drop(['Number_of_Casualties', 'Number_of_Vehicles'], axis=1))\n",
    "\n",
    "X_train_r_OneHot = pd.DataFrame(X_train_r_OneHot.toarray(), columns=enc.get_feature_names_out())\n",
    "\n",
    "X_train_r_OneHot.reset_index(drop=True, inplace=True)\n",
    "\n",
    "X_train_r_Numeric = X_train_r[['Number_of_Casualties', 'Number_of_Vehicles']].reset_index(drop=True)\n",
    "\n",
    "stdScaler = StandardScaler()\n",
    "X_train_r_Numeric_scaled = pd.DataFrame(stdScaler.fit_transform(X_train_r_Numeric), columns=X_train_r_Numeric.columns, index=X_train_r_Numeric.index)\n",
    "\n",
    "X_train_r_OneHot = pd.concat([X_train_r_Numeric_scaled, X_train_r_OneHot], axis=1)\n",
    "\n",
    "print(X_train_r_OneHot.describe())"
   ]
  },
  {
   "cell_type": "markdown",
   "id": "edbd65a8-3528-4506-8701-bc74a013d82d",
   "metadata": {},
   "source": [
    "Important note: In case Neural Network model does better in validation tests than any other model, we will have to apply this same previous process to X_test data, in order to get a final performance."
   ]
  },
  {
   "cell_type": "markdown",
   "id": "7fb1bf18-cdce-4b37-a49f-590cc365d9d7",
   "metadata": {},
   "source": [
    "Let's define our Neural Network using Pytorch framework.\n",
    "\n",
    "Our Network will use Adam optimizer (which combines both Momentum and RMSProp, what makes it highly used) and Batch Normalization (it helps Adam to find quicker and better optimums).\n",
    "\n",
    "The list of hyperparameters we want to optimize is as follows:\n",
    "\n",
    "- Number of layers\n",
    "- Number of neurons per layer\n",
    "- Activation function\n",
    "- Number of epochs\n",
    "- Batch size\n",
    "- Learning Rate\n",
    "- Weights initialization\n",
    "- L2 Regularization (weight decays)\n",
    "- Dropout rate\n",
    "- Loss function\n",
    "\n",
    "To have it into account, the parameters our Network will internally optimize are:\n",
    "\n",
    "- Weights of each input, per neuron and per layer.\n",
    "- γ and 𝛽, for Batch Normalization.\n",
    "\n",
    "To reduce the search space, we are going to fix the number of epochs to 50 and use Cross-Entropy Loss as loss function."
   ]
  },
  {
   "cell_type": "code",
   "execution_count": 11,
   "id": "90e18cee-4494-4e65-ad0c-63b54ca24c83",
   "metadata": {},
   "outputs": [],
   "source": [
    "class NeuralNetwork_Classifier(nn.Module):\n",
    "    def __init__(self, *, n_nodes_layer: list, activation_function: str, dropout_rate: float, \n",
    "                 init_method: str, learning_rate: float, L2_reg: float, criterion: str = \"CrossEntropyLoss\"):\n",
    "        super(NeuralNetwork_Classifier, self).__init__()\n",
    "\n",
    "        self.activation_fn = activation_function\n",
    "        self.init_method = init_method\n",
    "        \n",
    "        # n_nodes_layer[0] equals the number of features\n",
    "        # n_nodes_layer[-1] equals the number of possible classes\n",
    "        \n",
    "        self.layers = nn.ModuleList()\n",
    "\n",
    "        for i in range(1, len(n_nodes_layer)-1):\n",
    "            layer = nn.Sequential(\n",
    "                nn.Linear(n_nodes_layer[i-1], n_nodes_layer[i], bias=False), # bias is not necessary when using batch norm\n",
    "                nn.BatchNorm1d(n_nodes_layer[i]),\n",
    "                self.apply_activation(),\n",
    "                nn.Dropout(dropout_rate)\n",
    "            )\n",
    "\n",
    "            self.layers.append(layer)\n",
    "\n",
    "        self.layers.append(nn.Linear(n_nodes_layer[-2], n_nodes_layer[-1]))\n",
    "\n",
    "        self.apply(self._init_weights)\n",
    "        self.criterion = nn.CrossEntropyLoss() if criterion == \"CrossEntropyLoss\" else nn.BCEWithLogitsLoss()\n",
    "        self.optimizer = optim.Adam(self.parameters(), lr=learning_rate, weight_decay=L2_reg)\n",
    "\n",
    "    def apply_activation(self) -> nn.Module:\n",
    "        act = self.activation_fn.lower()\n",
    "        \n",
    "        if act == \"relu\":\n",
    "            return nn.ReLU()\n",
    "        elif act == \"leaky_relu\":\n",
    "            return nn.LeakyReLU()\n",
    "        elif act == \"gelu\":\n",
    "            return nn.GELU()\n",
    "        elif act in [\"swish\", \"silu\"]:\n",
    "            return nn.SiLU()\n",
    "        else:\n",
    "            raise ValueError(f\"Unknown activation function: {act}\")\n",
    "\n",
    "    def _init_weights(self, layer):\n",
    "        if isinstance(layer, nn.Linear):\n",
    "            if self.init_method == \"uniform\":\n",
    "                nn.init.uniform_(layer.weight, a=-0.1, b=0.1)\n",
    "            elif self.init_method == \"normal\":\n",
    "                nn.init.normal_(layer.weight, mean=0.0, std=0.02)\n",
    "            elif self.init_method == \"constant\":\n",
    "                nn.init.constant_(layer.weight, 0)\n",
    "            elif self.init_method == \"xavier\":\n",
    "                nn.init.xavier_uniform_(layer.weight)\n",
    "            else:\n",
    "                raise ValueError(f\"Unknown initialization method: {self.init_method}\")\n",
    "        \n",
    "    def forward(self, x: torch.Tensor) -> torch.Tensor:\n",
    "        # For each hidden layer, compute output and activation function\n",
    "        for layer in self.layers[:-1]:\n",
    "            x = layer(x)\n",
    "\n",
    "        x = self.layers[-1](x) # No Sigmoid activation needed\n",
    "        \n",
    "        return x\n",
    "\n",
    "    def predict(self, X):\n",
    "        was_training = self.training\n",
    "        self.eval()\n",
    "        \n",
    "        with torch.no_grad():\n",
    "            logits = self.forward(X)\n",
    "            predictions = torch.argmax(logits, dim=1)\n",
    "            \n",
    "        if was_training:\n",
    "            self.train()\n",
    "        return predictions\n",
    "\n",
    "\n",
    "    def fit(self, dataloader, n_epochs: int, device:str =\"cpu\"):\n",
    "        self.train()\n",
    "        self.to(device)\n",
    "        \n",
    "        for epoch in range(n_epochs):\n",
    "            total_loss = 0\n",
    "\n",
    "            for X_batch, y_batch in dataloader:\n",
    "                X_batch, y_batch = X_batch.to(device), y_batch.to(device)\n",
    "                self.optimizer.zero_grad()\n",
    "                output = self(X_batch) # OUTPUT ARE LOGITS, WE ARE NOT USING SOFTMAX IN THE OUTPUT LAYER, SOFTMAX IS APPLIED BY CrossEntropyLoss\n",
    "                loss = self.criterion(output, y_batch)\n",
    "                loss.backward()\n",
    "                self.optimizer.step()\n",
    "                \n",
    "                total_loss += loss.item()\n",
    "            \n",
    "            print(f\"Epoch {epoch+1}, Loss: {total_loss / len(dataloader)}\")\n"
   ]
  },
  {
   "cell_type": "code",
   "execution_count": 12,
   "id": "2006cf87-7f66-4ab5-ab99-e7fbeb8bf996",
   "metadata": {},
   "outputs": [
    {
     "name": "stdout",
     "output_type": "stream",
     "text": [
      "Using: cpu\n"
     ]
    }
   ],
   "source": [
    "# DEVICE DEFINITION\n",
    "device = torch.device(\"cuda\" if torch.cuda.is_available() else \"cpu\")\n",
    "device = \"cpu\"\n",
    "print(f\"Using: {device}\")\n",
    "\n",
    "# SEARCH PARAMETERS\n",
    "hparams = {}\n",
    "hparams[\"n_hidden_layers\"] = np.arange(1, 7, 1)\n",
    "hparams[\"max_nodes_hidden_layer\"] = np.pow(2, np.arange(4, 15))\n",
    "hparams[\"learning_rate\"] = np.logspace(-4, 2, num=10)\n",
    "hparams[\"batch_size\"] = np.pow(2, np.arange(5, 9))\n",
    "hparams[\"activation_function\"] = [\"relu\", \"leaky_relu\", \"gelu\", \"swish\"]\n",
    "hparams[\"weights_initialization\"] = [\"uniform\", \"normal\", \"constant\", \"xavier\"]\n",
    "hparams[\"L2_reg\"] = np.logspace(-5, 0, num=10)\n",
    "hparams[\"dropout_rate\"] = np.linspace(0, 0.7, num=8)\n",
    "\n",
    "# CONSTANT PARAMETERS\n",
    "n_epochs = 5\n",
    "n_input_nodes = X_train_r_OneHot.shape[1]\n",
    "\n",
    "# FUNCTIONS THAT GENERATES NN ARCHITECTURES\n",
    "def generate_architecture(max_nodes_hidden_layer: int, n_hidden_layers: int, n_input_nodes: int, n_classes: int) -> list:\n",
    "    n_nodes_layer = [n_input_nodes]\n",
    "    current_n_nodes = max_nodes_hidden_layer\n",
    "    for _ in range(n_hidden_layers):\n",
    "        n_nodes_layer.append(int(current_n_nodes))\n",
    "        current_n_nodes = (current_n_nodes/2) if current_n_nodes > 2 else 2\n",
    "    n_nodes_layer.append(n_classes)\n",
    "    return n_nodes_layer\n",
    "\n",
    "def generate_fixed_architectures():\n",
    "    architectures = [[2018,2048,1640,1024,720,402,256,32,16,3]]\n",
    "    for architecture in architectures:\n",
    "        yield architecture"
   ]
  },
  {
   "cell_type": "code",
   "execution_count": null,
   "id": "a3cad9df-07e6-43ca-91cf-526c36ddddbe",
   "metadata": {},
   "outputs": [
    {
     "name": "stdout",
     "output_type": "stream",
     "text": [
      "Training model using: n_hidden_layers=4, max_nodes_hidden_layer=512, learning_rate=0.002154434690031882, batch_size=64, activation_function=leaky_relu, weights_initialization=constant, L2_reg=0.0004641588833612782, dropout_rate=0.09999999999999999 \n",
      "\n",
      "Network architecture: [218, 512, 256, 128, 64, 3] \n",
      "\n",
      "Epoch 1, Loss: 1.0980121575669886\n",
      "Epoch 2, Loss: 1.0980182033929584\n"
     ]
    }
   ],
   "source": [
    "def random_search(*, X, y, hparams: dict, n_epochs: int, n_iters: int, n_input_nodes: int) -> (dict, dict):\n",
    "    sss = StratifiedShuffleSplit(n_splits=3, test_size=0.2, random_state=42)\n",
    "\n",
    "    best_NN_model = None\n",
    "    best_score = 0\n",
    "    global_scores = []\n",
    "\n",
    "    X_tensor = torch.tensor(X.values, dtype=torch.float32).to(device)\n",
    "    y_tensor = torch.tensor(y.values, dtype=torch.long).to(device)\n",
    "    \n",
    "    def get_param_combs() -> list:\n",
    "        values = [hparams[k] for k in keys]\n",
    "        \n",
    "        all_combinations = list(product(*values))\n",
    "        \n",
    "        return random.sample(all_combinations, n_iters)\n",
    "\n",
    "    keys = list(hparams.keys())\n",
    "    random_combs = get_param_combs()\n",
    "    \n",
    "    for combo in random_combs:\n",
    "        current_params = dict(zip(keys, combo))\n",
    "        \n",
    "        n_hidden_layers = current_params[\"n_hidden_layers\"]\n",
    "        max_nodes_hidden_layer = current_params[\"max_nodes_hidden_layer\"]\n",
    "        learning_rate = current_params[\"learning_rate\"]\n",
    "        batch_size = current_params[\"batch_size\"]\n",
    "        activation_function = current_params[\"activation_function\"]\n",
    "        weights_initialization = current_params[\"weights_initialization\"]\n",
    "        L2_reg = current_params[\"L2_reg\"]\n",
    "        dropout_rate = current_params[\"dropout_rate\"]\n",
    "        \n",
    "        n_nodes_layer = generate_architecture(max_nodes_hidden_layer, n_hidden_layers, n_input_nodes, 3)\n",
    "        \n",
    "        print(\"Training model using:\", \", \".join([f\"{k}={v}\" for k, v in current_params.items()]), \"\\n\")\n",
    "        print(\"Network architecture:\", n_nodes_layer, \"\\n\")\n",
    "        \n",
    "        local_scores = []\n",
    "        for train_index, test_index in sss.split(X, y):\n",
    "            model = NeuralNetwork_Classifier(n_nodes_layer=n_nodes_layer, activation_function=activation_function, dropout_rate=dropout_rate,\n",
    "                                             init_method=weights_initialization, learning_rate=learning_rate, L2_reg=L2_reg)\n",
    "\n",
    "            X_train = X_tensor[train_index]\n",
    "            y_train = y_tensor[train_index]\n",
    "            \n",
    "            X_validation = X_tensor[test_index]\n",
    "\n",
    "            dataset = TensorDataset(X_train, y_train)\n",
    "            dataloader = DataLoader(dataset, batch_size=int(batch_size), shuffle=True, num_workers=4, pin_memory=True if device=='cuda' else False)\n",
    "\n",
    "            model.fit(dataloader, n_epochs)\n",
    "            \n",
    "            y_pred = model.predict(X_validation)\n",
    "            y_pred = y_pred.cpu().numpy()\n",
    "\n",
    "            current_f1 = f1_score(y.iloc[test_index].values, y_pred, average=\"macro\")\n",
    "            local_scores.append(current_f1)\n",
    "            print(f\"F1 macro: {current_f1}\", \"\\n\")\n",
    "\n",
    "        comb_score = np.mean(local_scores)\n",
    "        if comb_score > best_score:\n",
    "            best_score = comb_score\n",
    "            best_NN_model = model\n",
    "\n",
    "        global_scores.append(np.mean(local_scores))\n",
    "        print(f\"FINAL CURRENT COMBINATION F1 MACRO MEAN: {comb_score}\\n\")\n",
    "\n",
    "    return best_NN_model, global_scores\n",
    "\n",
    "random_search(X=X_train_r_OneHot, y=y_train_r, hparams=hparams, n_epochs=n_epochs, n_iters=3, n_input_nodes=n_input_nodes)"
   ]
  },
  {
   "cell_type": "code",
   "execution_count": null,
   "id": "d5fdf269-ebef-42a7-b698-ba6506c95b52",
   "metadata": {},
   "outputs": [],
   "source": []
  },
  {
   "cell_type": "code",
   "execution_count": null,
   "id": "fc20be0e-98c7-47ec-a11d-aacdf57e075e",
   "metadata": {},
   "outputs": [],
   "source": []
  },
  {
   "cell_type": "code",
   "execution_count": null,
   "id": "a4cd6ffa-465c-44c9-ae65-7254d5dbaf32",
   "metadata": {},
   "outputs": [],
   "source": []
  },
  {
   "cell_type": "code",
   "execution_count": null,
   "id": "f6e7c8cb-1869-4178-92db-23f771a7f65f",
   "metadata": {},
   "outputs": [],
   "source": []
  },
  {
   "cell_type": "code",
   "execution_count": null,
   "id": "4d613d48-1453-49a7-9b32-2c75cd56759f",
   "metadata": {},
   "outputs": [],
   "source": []
  },
  {
   "cell_type": "code",
   "execution_count": null,
   "id": "05c3e551-f8c0-4821-8536-8d70b5a7ce4d",
   "metadata": {},
   "outputs": [],
   "source": []
  }
 ],
 "metadata": {
  "kernelspec": {
   "display_name": "Python 3.13",
   "language": "python",
   "name": "python313"
  },
  "language_info": {
   "codemirror_mode": {
    "name": "ipython",
    "version": 3
   },
   "file_extension": ".py",
   "mimetype": "text/x-python",
   "name": "python",
   "nbconvert_exporter": "python",
   "pygments_lexer": "ipython3",
   "version": "3.13.3"
  }
 },
 "nbformat": 4,
 "nbformat_minor": 5
}
